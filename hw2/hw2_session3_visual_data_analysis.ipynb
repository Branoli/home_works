{
 "cells": [
  {
   "cell_type": "markdown",
   "metadata": {},
   "source": [
    "<center>\n",
    "<img src=\"../../img/ods_stickers.jpg\">\n",
    "## Открытый курс по машинному обучению. Сессия № 2\n",
    "Автор материала: Илья Барышников (@lucidyan). Материал распространяется на условиях лицензии [Creative Commons CC BY-NC-SA 4.0](https://creativecommons.org/licenses/by-nc-sa/4.0/). Можно использовать в любых целях (редактировать, поправлять и брать за основу), кроме коммерческих, но с обязательным упоминанием автора материала."
   ]
  },
  {
   "cell_type": "markdown",
   "metadata": {},
   "source": [
    "# <center> Домашнее задание №2\n",
    "## <center> Визуальный анализ данных о сердечно-сосудистых заболеваниях"
   ]
  },
  {
   "cell_type": "markdown",
   "metadata": {},
   "source": [
    "**В задании предлагается с помощью визуального анализа ответить на несколько вопросов по данным о сердечно-сосудистых заболеваниях. Данные использовались в соревновании [ML Boot Camp 5](http://mlbootcamp.ru/round/12/sandbox/) (качать их не надо, они уже есть в репозитории).**\n",
    "\n",
    "**Заполните код в клетках (где написано \"Ваш код здесь\") и ответьте на вопросы в [веб-форме](https://goo.gl/H5uTYg). Код отправлять никуда не нужно.**"
   ]
  },
  {
   "cell_type": "markdown",
   "metadata": {},
   "source": [
    "В соревновании предлагалось определить наличие/отсутствие сердечно-сосудистых заболеваний (ССЗ) по результатам осмотра пациента.\n",
    "\n",
    "**Описание данных.**\n",
    "\n",
    "Датасет сформирован из реальных клинических анализов, и в нём используются признаки, которые можно разбить на 3 группы:\n",
    "\n",
    "Объективные признаки:\n",
    "\n",
    " - Возраст (age)\n",
    " - Рост (height)\n",
    " - Вес (weight)\n",
    " - Пол (gender)\n",
    " \n",
    "\n",
    "Результаты измерения:\n",
    "\n",
    " - Артериальное давление верхнее и нижнее (ap_hi, ap_lo)\n",
    " - Холестерин (cholesterol)\n",
    " - Глюкоза (gluc)\n",
    " \n",
    "\n",
    "Субъективные признаки (со слов пациентов):\n",
    "\n",
    " - Курение (smoke)\n",
    " - Употребление алкоголя (alco)\n",
    " - Физическая активность (active)\n",
    " \n",
    "Целевой признак (который интересно будет прогнозировать):\n",
    " - Наличие сердечно-сосудистых заболеваний по результатам классического врачебного осмотра (cardio)\n",
    "\n",
    "Возраст дан в днях. Значения показателей холестерина и глюкозы представлены одним из трех классов: норма, выше нормы, значительно выше нормы. Значения субъективных признаков — бинарны.\n",
    "\n",
    "Все показатели даны на момент осмотра."
   ]
  },
  {
   "cell_type": "code",
   "execution_count": 3,
   "metadata": {},
   "outputs": [
    {
     "name": "stdout",
     "output_type": "stream",
     "text": [
      "Requirement already satisfied: seaborn in d:\\games\\python\\lib\\site-packages\n"
     ]
    }
   ],
   "source": [
    "!pip install seaborn"
   ]
  },
  {
   "cell_type": "code",
   "execution_count": 1,
   "metadata": {
    "scrolled": false
   },
   "outputs": [],
   "source": [
    "# подгружаем все нужные пакеты\n",
    "import pandas as pd\n",
    "import numpy as np\n",
    "\n",
    "# игнорируем warnings\n",
    "import warnings\n",
    "warnings.filterwarnings(\"ignore\")\n",
    "\n",
    "import seaborn as sns\n",
    "\n",
    "import matplotlib\n",
    "import matplotlib.pyplot as plt\n",
    "import matplotlib.ticker\n",
    "%matplotlib inline\n",
    "\n",
    "# настройка внешнего вида графиков в seaborn\n",
    "sns.set_context(\n",
    "    \"notebook\", \n",
    "    font_scale = 1.5,       \n",
    "    rc = { \n",
    "        \"figure.figsize\" : (12, 9), \n",
    "        \"axes.titlesize\" : 18 \n",
    "    }\n",
    ")"
   ]
  },
  {
   "cell_type": "markdown",
   "metadata": {},
   "source": [
    "---"
   ]
  },
  {
   "cell_type": "markdown",
   "metadata": {},
   "source": [
    "В рамках задания для простоты будем работать только с обучающей выборкой. Чистить данные от выбросов и ошибок в данных НЕ нужно, кроме тех случаев, где об этом явно указано.\n",
    "<br>\n",
    "<br>\n",
    "Все визуализации рекомендуем производить с помощью библиотеки `Seaborn`."
   ]
  },
  {
   "cell_type": "markdown",
   "metadata": {},
   "source": [
    "# Проведем небольшой EDA"
   ]
  },
  {
   "cell_type": "code",
   "execution_count": 2,
   "metadata": {},
   "outputs": [],
   "source": [
    "train = pd.read_csv('../data/mlbootcamp5_train.csv', sep=';', index_col='id')"
   ]
  },
  {
   "cell_type": "code",
   "execution_count": 4,
   "metadata": {},
   "outputs": [
    {
     "name": "stdout",
     "output_type": "stream",
     "text": [
      "Размер датасета:  (70000, 12)\n"
     ]
    },
    {
     "data": {
      "text/html": [
       "<div>\n",
       "<style scoped>\n",
       "    .dataframe tbody tr th:only-of-type {\n",
       "        vertical-align: middle;\n",
       "    }\n",
       "\n",
       "    .dataframe tbody tr th {\n",
       "        vertical-align: top;\n",
       "    }\n",
       "\n",
       "    .dataframe thead th {\n",
       "        text-align: right;\n",
       "    }\n",
       "</style>\n",
       "<table border=\"1\" class=\"dataframe\">\n",
       "  <thead>\n",
       "    <tr style=\"text-align: right;\">\n",
       "      <th></th>\n",
       "      <th>age</th>\n",
       "      <th>gender</th>\n",
       "      <th>height</th>\n",
       "      <th>weight</th>\n",
       "      <th>ap_hi</th>\n",
       "      <th>ap_lo</th>\n",
       "      <th>cholesterol</th>\n",
       "      <th>gluc</th>\n",
       "      <th>smoke</th>\n",
       "      <th>alco</th>\n",
       "      <th>active</th>\n",
       "      <th>cardio</th>\n",
       "    </tr>\n",
       "    <tr>\n",
       "      <th>id</th>\n",
       "      <th></th>\n",
       "      <th></th>\n",
       "      <th></th>\n",
       "      <th></th>\n",
       "      <th></th>\n",
       "      <th></th>\n",
       "      <th></th>\n",
       "      <th></th>\n",
       "      <th></th>\n",
       "      <th></th>\n",
       "      <th></th>\n",
       "      <th></th>\n",
       "    </tr>\n",
       "  </thead>\n",
       "  <tbody>\n",
       "    <tr>\n",
       "      <th>0</th>\n",
       "      <td>18393</td>\n",
       "      <td>2</td>\n",
       "      <td>168</td>\n",
       "      <td>62.0</td>\n",
       "      <td>110</td>\n",
       "      <td>80</td>\n",
       "      <td>1</td>\n",
       "      <td>1</td>\n",
       "      <td>0</td>\n",
       "      <td>0</td>\n",
       "      <td>1</td>\n",
       "      <td>0</td>\n",
       "    </tr>\n",
       "    <tr>\n",
       "      <th>1</th>\n",
       "      <td>20228</td>\n",
       "      <td>1</td>\n",
       "      <td>156</td>\n",
       "      <td>85.0</td>\n",
       "      <td>140</td>\n",
       "      <td>90</td>\n",
       "      <td>3</td>\n",
       "      <td>1</td>\n",
       "      <td>0</td>\n",
       "      <td>0</td>\n",
       "      <td>1</td>\n",
       "      <td>1</td>\n",
       "    </tr>\n",
       "    <tr>\n",
       "      <th>2</th>\n",
       "      <td>18857</td>\n",
       "      <td>1</td>\n",
       "      <td>165</td>\n",
       "      <td>64.0</td>\n",
       "      <td>130</td>\n",
       "      <td>70</td>\n",
       "      <td>3</td>\n",
       "      <td>1</td>\n",
       "      <td>0</td>\n",
       "      <td>0</td>\n",
       "      <td>0</td>\n",
       "      <td>1</td>\n",
       "    </tr>\n",
       "    <tr>\n",
       "      <th>3</th>\n",
       "      <td>17623</td>\n",
       "      <td>2</td>\n",
       "      <td>169</td>\n",
       "      <td>82.0</td>\n",
       "      <td>150</td>\n",
       "      <td>100</td>\n",
       "      <td>1</td>\n",
       "      <td>1</td>\n",
       "      <td>0</td>\n",
       "      <td>0</td>\n",
       "      <td>1</td>\n",
       "      <td>1</td>\n",
       "    </tr>\n",
       "    <tr>\n",
       "      <th>4</th>\n",
       "      <td>17474</td>\n",
       "      <td>1</td>\n",
       "      <td>156</td>\n",
       "      <td>56.0</td>\n",
       "      <td>100</td>\n",
       "      <td>60</td>\n",
       "      <td>1</td>\n",
       "      <td>1</td>\n",
       "      <td>0</td>\n",
       "      <td>0</td>\n",
       "      <td>0</td>\n",
       "      <td>0</td>\n",
       "    </tr>\n",
       "  </tbody>\n",
       "</table>\n",
       "</div>"
      ],
      "text/plain": [
       "      age  gender  height  weight  ap_hi  ap_lo  cholesterol  gluc  smoke  \\\n",
       "id                                                                          \n",
       "0   18393       2     168    62.0    110     80            1     1      0   \n",
       "1   20228       1     156    85.0    140     90            3     1      0   \n",
       "2   18857       1     165    64.0    130     70            3     1      0   \n",
       "3   17623       2     169    82.0    150    100            1     1      0   \n",
       "4   17474       1     156    56.0    100     60            1     1      0   \n",
       "\n",
       "    alco  active  cardio  \n",
       "id                        \n",
       "0      0       1       0  \n",
       "1      0       1       1  \n",
       "2      0       0       1  \n",
       "3      0       1       1  \n",
       "4      0       0       0  "
      ]
     },
     "execution_count": 4,
     "metadata": {},
     "output_type": "execute_result"
    }
   ],
   "source": [
    "print('Размер датасета: ', train.shape)\n",
    "train.head()"
   ]
  },
  {
   "cell_type": "markdown",
   "metadata": {},
   "source": [
    "Для начала всегда неплохо бы посмотреть на значения, которые принимают переменные."
   ]
  },
  {
   "cell_type": "markdown",
   "metadata": {},
   "source": [
    "Переведем данные в \"Long Format\"-представление и отрисуем с помощью [factorplot](https://seaborn.pydata.org/generated/seaborn.factorplot.html) количество значений, которые принимают категориальные переменные."
   ]
  },
  {
   "cell_type": "code",
   "execution_count": 5,
   "metadata": {},
   "outputs": [
    {
     "data": {
      "image/png": "[encoded data removed]",
      "text/plain": [
       "<matplotlib.figure.Figure at 0xf656130>"
      ]
     },
     "metadata": {},
     "output_type": "display_data"
    }
   ],
   "source": [
    "train_uniques = pd.melt(frame=train, value_vars=['gender','cholesterol', \n",
    "                                                 'gluc', 'smoke', 'alco', \n",
    "                                                 'active', 'cardio'])\n",
    "train_uniques = pd.DataFrame(train_uniques.groupby(['variable', \n",
    "                                                    'value'])['value'].count()) \\\n",
    "    .sort_index(level=[0, 1]) \\\n",
    "    .rename(columns={'value': 'count'}) \\\n",
    "    .reset_index()\n",
    "vvv = pd.melt(frame=train)\n",
    " \n",
    "sns.factorplot(x='variable', y='count', hue='value', \n",
    "               data=train_uniques, kind='bar', size=12);"
   ]
  },
  {
   "cell_type": "code",
   "execution_count": null,
   "metadata": {},
   "outputs": [],
   "source": []
  },
  {
   "cell_type": "markdown",
   "metadata": {},
   "source": [
    "Видим, что классы целевой переменной `cardio` сбалансированы, отлично!"
   ]
  },
  {
   "cell_type": "markdown",
   "metadata": {},
   "source": [
    "Можно также разбить элементы обучающей выборки по значениям целевой переменной: иногда на таких графиках можно сразу увидеть самый значимый признак."
   ]
  },
  {
   "cell_type": "code",
   "execution_count": 7,
   "metadata": {},
   "outputs": [
    {
     "data": {
      "image/png": "[encoded data removed]",
      "text/plain": [
       "<matplotlib.figure.Figure at 0x34edf50>"
      ]
     },
     "metadata": {},
     "output_type": "display_data"
    }
   ],
   "source": [
    "train_uniques = pd.melt(frame=train, value_vars=['gender','cholesterol', \n",
    "                                                 'gluc', 'smoke', 'alco', \n",
    "                                                 'active'], \n",
    "                        id_vars=['cardio'])\n",
    "train_uniques = pd.DataFrame(train_uniques.groupby(['variable', 'value', \n",
    "                                                    'cardio'])['value'].count()) \\\n",
    "    .sort_index(level=[0, 1]) \\\n",
    "    .rename(columns={'value': 'count'}) \\\n",
    "    .reset_index()\n",
    "    \n",
    "sns.factorplot(x='variable', y='count', hue='value', \n",
    "               col='cardio', data=train_uniques, kind='bar', size=9);"
   ]
  },
  {
   "cell_type": "markdown",
   "metadata": {},
   "source": [
    "Видим, что в зависимости от целевой переменной сильно меняется распределение холестерина и глюкозы. Совпадение?"
   ]
  },
  {
   "cell_type": "markdown",
   "metadata": {},
   "source": [
    "**Немного статистики по уникальным значениям признаков.**"
   ]
  },
  {
   "cell_type": "code",
   "execution_count": 6,
   "metadata": {},
   "outputs": [
    {
     "name": "stdout",
     "output_type": "stream",
     "text": [
      "age\n",
      "8076\n",
      "----------\n",
      "gender\n",
      "2 [(1, 45530), (2, 24470)]\n",
      "----------\n",
      "height\n",
      "109\n",
      "----------\n",
      "weight\n",
      "287\n",
      "----------\n",
      "ap_hi\n",
      "153\n",
      "----------\n",
      "ap_lo\n",
      "157\n",
      "----------\n",
      "cholesterol\n",
      "3 [(1, 52385), (2, 9549), (3, 8066)]\n",
      "----------\n",
      "gluc\n",
      "3 [(1, 59479), (2, 5190), (3, 5331)]\n",
      "----------\n",
      "smoke\n",
      "2 [(0, 63831), (1, 6169)]\n",
      "----------\n",
      "alco\n",
      "2 [(0, 66236), (1, 3764)]\n",
      "----------\n",
      "active\n",
      "2 [(0, 13739), (1, 56261)]\n",
      "----------\n",
      "cardio\n",
      "2 [(0, 35021), (1, 34979)]\n",
      "----------\n"
     ]
    }
   ],
   "source": [
    "for c in train.columns:\n",
    "    n = train[c].nunique()\n",
    "    print(c)\n",
    "    \n",
    "    if n <= 3:\n",
    "        print(n, sorted(train[c].value_counts().to_dict().items()))\n",
    "    else:\n",
    "        print(n)\n",
    "    print(10 * '-')"
   ]
  },
  {
   "cell_type": "markdown",
   "metadata": {},
   "source": [
    "*Итого:*\n",
    "- Пять количественных признаков (без id)\n",
    "- Семь категориальных\n",
    "- 70000 объектов"
   ]
  },
  {
   "cell_type": "markdown",
   "metadata": {},
   "source": [
    "---"
   ]
  },
  {
   "cell_type": "markdown",
   "metadata": {},
   "source": [
    "# 1. Визуализируем корреляционную матрицу\n",
    "\n",
    "Для того чтобы лучше понять признаки в датасете, можно посчитать матрицу коэффициентов корреляции между признаками. <br>\n",
    "\n",
    "Постройте [heatmap](http://seaborn.pydata.org/generated/seaborn.heatmap.html) корреляционной матрицы. Матрица формируется средствами `Pandas`, со стандартным значением параметров."
   ]
  },
  {
   "cell_type": "markdown",
   "metadata": {},
   "source": [
    "###  1. Какие два признака больше всего коррелируют (по Пирсону) с признаком `height ` ?\n",
    "\n",
    "- gluc, cholesterol\n",
    "- weight, alco\n",
    "- smoke, weight\n",
    "- weight, gender"
   ]
  },
  {
   "cell_type": "code",
   "execution_count": null,
   "metadata": {},
   "outputs": [],
   "source": []
  },
  {
   "cell_type": "code",
   "execution_count": null,
   "metadata": {},
   "outputs": [],
   "source": []
  },
  {
   "cell_type": "code",
   "execution_count": 170,
   "metadata": {},
   "outputs": [
    {
     "data": {
      "text/html": [
       "<div>\n",
       "<style scoped>\n",
       "    .dataframe tbody tr th:only-of-type {\n",
       "        vertical-align: middle;\n",
       "    }\n",
       "\n",
       "    .dataframe tbody tr th {\n",
       "        vertical-align: top;\n",
       "    }\n",
       "\n",
       "    .dataframe thead th {\n",
       "        text-align: right;\n",
       "    }\n",
       "</style>\n",
       "<table border=\"1\" class=\"dataframe\">\n",
       "  <thead>\n",
       "    <tr style=\"text-align: right;\">\n",
       "      <th></th>\n",
       "      <th>age</th>\n",
       "      <th>gender</th>\n",
       "      <th>height</th>\n",
       "      <th>weight</th>\n",
       "      <th>ap_hi</th>\n",
       "      <th>ap_lo</th>\n",
       "      <th>cholesterol</th>\n",
       "      <th>gluc</th>\n",
       "      <th>smoke</th>\n",
       "      <th>alco</th>\n",
       "      <th>active</th>\n",
       "      <th>cardio</th>\n",
       "    </tr>\n",
       "  </thead>\n",
       "  <tbody>\n",
       "    <tr>\n",
       "      <th>age</th>\n",
       "      <td>1.000000</td>\n",
       "      <td>-0.022811</td>\n",
       "      <td>-0.081515</td>\n",
       "      <td>0.053684</td>\n",
       "      <td>0.020764</td>\n",
       "      <td>0.017647</td>\n",
       "      <td>0.154424</td>\n",
       "      <td>0.098703</td>\n",
       "      <td>-0.047633</td>\n",
       "      <td>-0.029723</td>\n",
       "      <td>-0.009927</td>\n",
       "      <td>0.238159</td>\n",
       "    </tr>\n",
       "    <tr>\n",
       "      <th>gender</th>\n",
       "      <td>-0.022811</td>\n",
       "      <td>1.000000</td>\n",
       "      <td>0.499033</td>\n",
       "      <td>0.155406</td>\n",
       "      <td>0.006005</td>\n",
       "      <td>0.015254</td>\n",
       "      <td>-0.035821</td>\n",
       "      <td>-0.020491</td>\n",
       "      <td>0.338135</td>\n",
       "      <td>0.170966</td>\n",
       "      <td>0.005866</td>\n",
       "      <td>0.008109</td>\n",
       "    </tr>\n",
       "    <tr>\n",
       "      <th>height</th>\n",
       "      <td>-0.081515</td>\n",
       "      <td>0.499033</td>\n",
       "      <td>1.000000</td>\n",
       "      <td>0.290968</td>\n",
       "      <td>0.005488</td>\n",
       "      <td>0.006150</td>\n",
       "      <td>-0.050226</td>\n",
       "      <td>-0.018595</td>\n",
       "      <td>0.187989</td>\n",
       "      <td>0.094419</td>\n",
       "      <td>-0.006570</td>\n",
       "      <td>-0.010821</td>\n",
       "    </tr>\n",
       "    <tr>\n",
       "      <th>weight</th>\n",
       "      <td>0.053684</td>\n",
       "      <td>0.155406</td>\n",
       "      <td>0.290968</td>\n",
       "      <td>1.000000</td>\n",
       "      <td>0.030702</td>\n",
       "      <td>0.043710</td>\n",
       "      <td>0.141768</td>\n",
       "      <td>0.106857</td>\n",
       "      <td>0.067780</td>\n",
       "      <td>0.067113</td>\n",
       "      <td>-0.016867</td>\n",
       "      <td>0.181660</td>\n",
       "    </tr>\n",
       "    <tr>\n",
       "      <th>ap_hi</th>\n",
       "      <td>0.020764</td>\n",
       "      <td>0.006005</td>\n",
       "      <td>0.005488</td>\n",
       "      <td>0.030702</td>\n",
       "      <td>1.000000</td>\n",
       "      <td>0.016086</td>\n",
       "      <td>0.023778</td>\n",
       "      <td>0.011841</td>\n",
       "      <td>-0.000922</td>\n",
       "      <td>0.001408</td>\n",
       "      <td>-0.000033</td>\n",
       "      <td>0.054475</td>\n",
       "    </tr>\n",
       "    <tr>\n",
       "      <th>ap_lo</th>\n",
       "      <td>0.017647</td>\n",
       "      <td>0.015254</td>\n",
       "      <td>0.006150</td>\n",
       "      <td>0.043710</td>\n",
       "      <td>0.016086</td>\n",
       "      <td>1.000000</td>\n",
       "      <td>0.024019</td>\n",
       "      <td>0.010806</td>\n",
       "      <td>0.005186</td>\n",
       "      <td>0.010601</td>\n",
       "      <td>0.004780</td>\n",
       "      <td>0.065719</td>\n",
       "    </tr>\n",
       "    <tr>\n",
       "      <th>cholesterol</th>\n",
       "      <td>0.154424</td>\n",
       "      <td>-0.035821</td>\n",
       "      <td>-0.050226</td>\n",
       "      <td>0.141768</td>\n",
       "      <td>0.023778</td>\n",
       "      <td>0.024019</td>\n",
       "      <td>1.000000</td>\n",
       "      <td>0.451578</td>\n",
       "      <td>0.010354</td>\n",
       "      <td>0.035760</td>\n",
       "      <td>0.009911</td>\n",
       "      <td>0.221147</td>\n",
       "    </tr>\n",
       "    <tr>\n",
       "      <th>gluc</th>\n",
       "      <td>0.098703</td>\n",
       "      <td>-0.020491</td>\n",
       "      <td>-0.018595</td>\n",
       "      <td>0.106857</td>\n",
       "      <td>0.011841</td>\n",
       "      <td>0.010806</td>\n",
       "      <td>0.451578</td>\n",
       "      <td>1.000000</td>\n",
       "      <td>-0.004756</td>\n",
       "      <td>0.011246</td>\n",
       "      <td>-0.006770</td>\n",
       "      <td>0.089307</td>\n",
       "    </tr>\n",
       "    <tr>\n",
       "      <th>smoke</th>\n",
       "      <td>-0.047633</td>\n",
       "      <td>0.338135</td>\n",
       "      <td>0.187989</td>\n",
       "      <td>0.067780</td>\n",
       "      <td>-0.000922</td>\n",
       "      <td>0.005186</td>\n",
       "      <td>0.010354</td>\n",
       "      <td>-0.004756</td>\n",
       "      <td>1.000000</td>\n",
       "      <td>0.340094</td>\n",
       "      <td>0.025858</td>\n",
       "      <td>-0.015486</td>\n",
       "    </tr>\n",
       "    <tr>\n",
       "      <th>alco</th>\n",
       "      <td>-0.029723</td>\n",
       "      <td>0.170966</td>\n",
       "      <td>0.094419</td>\n",
       "      <td>0.067113</td>\n",
       "      <td>0.001408</td>\n",
       "      <td>0.010601</td>\n",
       "      <td>0.035760</td>\n",
       "      <td>0.011246</td>\n",
       "      <td>0.340094</td>\n",
       "      <td>1.000000</td>\n",
       "      <td>0.025476</td>\n",
       "      <td>-0.007330</td>\n",
       "    </tr>\n",
       "    <tr>\n",
       "      <th>active</th>\n",
       "      <td>-0.009927</td>\n",
       "      <td>0.005866</td>\n",
       "      <td>-0.006570</td>\n",
       "      <td>-0.016867</td>\n",
       "      <td>-0.000033</td>\n",
       "      <td>0.004780</td>\n",
       "      <td>0.009911</td>\n",
       "      <td>-0.006770</td>\n",
       "      <td>0.025858</td>\n",
       "      <td>0.025476</td>\n",
       "      <td>1.000000</td>\n",
       "      <td>-0.035653</td>\n",
       "    </tr>\n",
       "    <tr>\n",
       "      <th>cardio</th>\n",
       "      <td>0.238159</td>\n",
       "      <td>0.008109</td>\n",
       "      <td>-0.010821</td>\n",
       "      <td>0.181660</td>\n",
       "      <td>0.054475</td>\n",
       "      <td>0.065719</td>\n",
       "      <td>0.221147</td>\n",
       "      <td>0.089307</td>\n",
       "      <td>-0.015486</td>\n",
       "      <td>-0.007330</td>\n",
       "      <td>-0.035653</td>\n",
       "      <td>1.000000</td>\n",
       "    </tr>\n",
       "  </tbody>\n",
       "</table>\n",
       "</div>"
      ],
      "text/plain": [
       "                  age    gender    height    weight     ap_hi     ap_lo  \\\n",
       "age          1.000000 -0.022811 -0.081515  0.053684  0.020764  0.017647   \n",
       "gender      -0.022811  1.000000  0.499033  0.155406  0.006005  0.015254   \n",
       "height      -0.081515  0.499033  1.000000  0.290968  0.005488  0.006150   \n",
       "weight       0.053684  0.155406  0.290968  1.000000  0.030702  0.043710   \n",
       "ap_hi        0.020764  0.006005  0.005488  0.030702  1.000000  0.016086   \n",
       "ap_lo        0.017647  0.015254  0.006150  0.043710  0.016086  1.000000   \n",
       "cholesterol  0.154424 -0.035821 -0.050226  0.141768  0.023778  0.024019   \n",
       "gluc         0.098703 -0.020491 -0.018595  0.106857  0.011841  0.010806   \n",
       "smoke       -0.047633  0.338135  0.187989  0.067780 -0.000922  0.005186   \n",
       "alco        -0.029723  0.170966  0.094419  0.067113  0.001408  0.010601   \n",
       "active      -0.009927  0.005866 -0.006570 -0.016867 -0.000033  0.004780   \n",
       "cardio       0.238159  0.008109 -0.010821  0.181660  0.054475  0.065719   \n",
       "\n",
       "             cholesterol      gluc     smoke      alco    active    cardio  \n",
       "age             0.154424  0.098703 -0.047633 -0.029723 -0.009927  0.238159  \n",
       "gender         -0.035821 -0.020491  0.338135  0.170966  0.005866  0.008109  \n",
       "height         -0.050226 -0.018595  0.187989  0.094419 -0.006570 -0.010821  \n",
       "weight          0.141768  0.106857  0.067780  0.067113 -0.016867  0.181660  \n",
       "ap_hi           0.023778  0.011841 -0.000922  0.001408 -0.000033  0.054475  \n",
       "ap_lo           0.024019  0.010806  0.005186  0.010601  0.004780  0.065719  \n",
       "cholesterol     1.000000  0.451578  0.010354  0.035760  0.009911  0.221147  \n",
       "gluc            0.451578  1.000000 -0.004756  0.011246 -0.006770  0.089307  \n",
       "smoke           0.010354 -0.004756  1.000000  0.340094  0.025858 -0.015486  \n",
       "alco            0.035760  0.011246  0.340094  1.000000  0.025476 -0.007330  \n",
       "active          0.009911 -0.006770  0.025858  0.025476  1.000000 -0.035653  \n",
       "cardio          0.221147  0.089307 -0.015486 -0.007330 -0.035653  1.000000  "
      ]
     },
     "execution_count": 170,
     "metadata": {},
     "output_type": "execute_result"
    }
   ],
   "source": [
    "train.corr(method='pearson')"
   ]
  },
  {
   "cell_type": "code",
   "execution_count": 167,
   "metadata": {},
   "outputs": [
    {
     "data": {
      "text/plain": [
       "<matplotlib.axes._subplots.AxesSubplot at 0x2f328a90>"
      ]
     },
     "execution_count": 167,
     "metadata": {},
     "output_type": "execute_result"
    },
    {
     "data": {
      "image/png": "[encoded data removed]",
      "text/plain": [
       "<matplotlib.figure.Figure at 0x2eac60d0>"
      ]
     },
     "metadata": {},
     "output_type": "display_data"
    }
   ],
   "source": [
    "sns.heatmap(train.corr(method='pearson'))"
   ]
  },
  {
   "cell_type": "code",
   "execution_count": null,
   "metadata": {},
   "outputs": [],
   "source": []
  },
  {
   "cell_type": "markdown",
   "metadata": {},
   "source": [
    "---"
   ]
  },
  {
   "cell_type": "markdown",
   "metadata": {},
   "source": [
    "# 2. Распределение роста для мужчин и женщин\n",
    "\n",
    "Как мы увидели, в процессе исследования уникальных значений пол кодируется значениями 1 и 2, расшифровка изначально не была нам дана в описании данных, но мы догадались, кто есть кто, посчитав средние значения роста (или веса) при разных значениях признака `gender`. Теперь сделаем то же самое, но графически. "
   ]
  },
  {
   "cell_type": "markdown",
   "metadata": {},
   "source": [
    "Постройте [violinplot](https://seaborn.pydata.org/generated/seaborn.violinplot.html) для роста и пола. Используйте:\n",
    "- hue – для разбивки по полу\n",
    "- scale – для оценки количества каждого из полов \n",
    "\n",
    "Для корректной отрисовки, преобразуйте DataFrame в \"Long Format\"-представление с помощью функции melt в pandas.\n",
    "<br>\n",
    "[еще один пример](https://stackoverflow.com/a/41575149/3338479)"
   ]
  },
  {
   "cell_type": "code",
   "execution_count": 158,
   "metadata": {},
   "outputs": [],
   "source": [
    "table = train[['gender', 'height']]"
   ]
  },
  {
   "cell_type": "code",
   "execution_count": 159,
   "metadata": {},
   "outputs": [],
   "source": [
    "table = pd.melt(table, id_vars='gender', value_vars=['height'])"
   ]
  },
  {
   "cell_type": "code",
   "execution_count": 160,
   "metadata": {},
   "outputs": [
    {
     "data": {
      "text/plain": [
       "<matplotlib.axes._subplots.AxesSubplot at 0x2e6a4c50>"
      ]
     },
     "execution_count": 160,
     "metadata": {},
     "output_type": "execute_result"
    },
    {
     "data": {
      "image/png": "[encoded data removed]",
      "text/plain": [
       "<matplotlib.figure.Figure at 0x2e0602d0>"
      ]
     },
     "metadata": {},
     "output_type": "display_data"
    }
   ],
   "source": [
    "sns.violinplot(x='variable', y='value', hue='gender', scale='count', data=table)\n"
   ]
  },
  {
   "cell_type": "code",
   "execution_count": null,
   "metadata": {},
   "outputs": [],
   "source": []
  },
  {
   "cell_type": "code",
   "execution_count": null,
   "metadata": {},
   "outputs": [],
   "source": []
  },
  {
   "cell_type": "code",
   "execution_count": null,
   "metadata": {},
   "outputs": [],
   "source": []
  },
  {
   "cell_type": "code",
   "execution_count": null,
   "metadata": {},
   "outputs": [],
   "source": []
  },
  {
   "cell_type": "code",
   "execution_count": 98,
   "metadata": {},
   "outputs": [],
   "source": []
  },
  {
   "cell_type": "code",
   "execution_count": null,
   "metadata": {},
   "outputs": [],
   "source": []
  },
  {
   "cell_type": "code",
   "execution_count": null,
   "metadata": {},
   "outputs": [],
   "source": []
  },
  {
   "cell_type": "markdown",
   "metadata": {},
   "source": [
    "Постройте на одном графике два отдельных [kdeplot](https://seaborn.pydata.org/generated/seaborn.kdeplot.html) роста, отдельно для мужчин и женщин. На нем разница будет более наглядной, но нельзя будет оценить количество мужчин/женщин."
   ]
  },
  {
   "cell_type": "code",
   "execution_count": 152,
   "metadata": {},
   "outputs": [],
   "source": [
    "table = pd.melt(table, id_vars='gender')"
   ]
  },
  {
   "cell_type": "code",
   "execution_count": null,
   "metadata": {},
   "outputs": [],
   "source": []
  },
  {
   "cell_type": "markdown",
   "metadata": {},
   "source": [
    "---"
   ]
  },
  {
   "cell_type": "markdown",
   "metadata": {},
   "source": [
    "# 3. Ранговая корреляция"
   ]
  },
  {
   "cell_type": "markdown",
   "metadata": {},
   "source": [
    "В большинстве случаев достаточно воспользоваться линейным коэффициентом корреляции *Пирсона* для выявления закономерностей в данных, но мы пойдём чуть дальше и используем ранговую корреляцию, которая поможет нам выявить пары, в которых меньший ранг из вариационного ряда одного признака всегда предшествует большему другого (или наоборот, в случае отрицательной корреляции)."
   ]
  },
  {
   "cell_type": "markdown",
   "metadata": {},
   "source": [
    "##### Постройте корреляционную матрицу, используя коэффициент Спирмена"
   ]
  },
  {
   "cell_type": "markdown",
   "metadata": {},
   "source": [
    "### 3.1 Какие признаки теперь больше всего коррелируют (по Спирмену) друг с другом?\n",
    "\n",
    "- Height, Weight\n",
    "- Age, Weight\n",
    "- ap_hi, ap_lo\n",
    "- Cholesterol, Gluc\n",
    "- Cardio, Cholesterol\n",
    "- Smoke, Alco"
   ]
  },
  {
   "cell_type": "code",
   "execution_count": 168,
   "metadata": {},
   "outputs": [
    {
     "data": {
      "text/plain": [
       "<matplotlib.axes._subplots.AxesSubplot at 0x2f32f710>"
      ]
     },
     "execution_count": 168,
     "metadata": {},
     "output_type": "execute_result"
    },
    {
     "data": {
      "image/png": "[encoded data removed]",
      "text/plain": [
       "<matplotlib.figure.Figure at 0x2eac6230>"
      ]
     },
     "metadata": {},
     "output_type": "display_data"
    }
   ],
   "source": [
    "sns.heatmap(train.corr(method='spearman'))"
   ]
  },
  {
   "cell_type": "code",
   "execution_count": 162,
   "metadata": {},
   "outputs": [
    {
     "data": {
      "text/html": [
       "<div>\n",
       "<style scoped>\n",
       "    .dataframe tbody tr th:only-of-type {\n",
       "        vertical-align: middle;\n",
       "    }\n",
       "\n",
       "    .dataframe tbody tr th {\n",
       "        vertical-align: top;\n",
       "    }\n",
       "\n",
       "    .dataframe thead th {\n",
       "        text-align: right;\n",
       "    }\n",
       "</style>\n",
       "<table border=\"1\" class=\"dataframe\">\n",
       "  <thead>\n",
       "    <tr style=\"text-align: right;\">\n",
       "      <th></th>\n",
       "      <th>age</th>\n",
       "      <th>gender</th>\n",
       "      <th>height</th>\n",
       "      <th>weight</th>\n",
       "      <th>ap_hi</th>\n",
       "      <th>ap_lo</th>\n",
       "      <th>cholesterol</th>\n",
       "      <th>gluc</th>\n",
       "      <th>smoke</th>\n",
       "      <th>alco</th>\n",
       "      <th>active</th>\n",
       "      <th>cardio</th>\n",
       "    </tr>\n",
       "  </thead>\n",
       "  <tbody>\n",
       "    <tr>\n",
       "      <th>age</th>\n",
       "      <td>1.000000</td>\n",
       "      <td>-0.020176</td>\n",
       "      <td>-0.082292</td>\n",
       "      <td>0.061559</td>\n",
       "      <td>0.219087</td>\n",
       "      <td>0.156700</td>\n",
       "      <td>0.140113</td>\n",
       "      <td>0.091791</td>\n",
       "      <td>-0.047471</td>\n",
       "      <td>-0.030078</td>\n",
       "      <td>-0.010422</td>\n",
       "      <td>0.234429</td>\n",
       "    </tr>\n",
       "    <tr>\n",
       "      <th>gender</th>\n",
       "      <td>-0.020176</td>\n",
       "      <td>1.000000</td>\n",
       "      <td>0.533805</td>\n",
       "      <td>0.172480</td>\n",
       "      <td>0.063174</td>\n",
       "      <td>0.066374</td>\n",
       "      <td>-0.035730</td>\n",
       "      <td>-0.018866</td>\n",
       "      <td>0.338135</td>\n",
       "      <td>0.170966</td>\n",
       "      <td>0.005866</td>\n",
       "      <td>0.008109</td>\n",
       "    </tr>\n",
       "    <tr>\n",
       "      <th>height</th>\n",
       "      <td>-0.082292</td>\n",
       "      <td>0.533805</td>\n",
       "      <td>1.000000</td>\n",
       "      <td>0.313569</td>\n",
       "      <td>0.019381</td>\n",
       "      <td>0.030534</td>\n",
       "      <td>-0.058940</td>\n",
       "      <td>-0.024369</td>\n",
       "      <td>0.197632</td>\n",
       "      <td>0.096670</td>\n",
       "      <td>-0.007367</td>\n",
       "      <td>-0.012383</td>\n",
       "    </tr>\n",
       "    <tr>\n",
       "      <th>weight</th>\n",
       "      <td>0.061559</td>\n",
       "      <td>0.172480</td>\n",
       "      <td>0.313569</td>\n",
       "      <td>1.000000</td>\n",
       "      <td>0.277749</td>\n",
       "      <td>0.254420</td>\n",
       "      <td>0.137908</td>\n",
       "      <td>0.109901</td>\n",
       "      <td>0.071676</td>\n",
       "      <td>0.068088</td>\n",
       "      <td>-0.014894</td>\n",
       "      <td>0.182701</td>\n",
       "    </tr>\n",
       "    <tr>\n",
       "      <th>ap_hi</th>\n",
       "      <td>0.219087</td>\n",
       "      <td>0.063174</td>\n",
       "      <td>0.019381</td>\n",
       "      <td>0.277749</td>\n",
       "      <td>1.000000</td>\n",
       "      <td>0.735436</td>\n",
       "      <td>0.208722</td>\n",
       "      <td>0.105334</td>\n",
       "      <td>0.028929</td>\n",
       "      <td>0.033243</td>\n",
       "      <td>-0.001268</td>\n",
       "      <td>0.451885</td>\n",
       "    </tr>\n",
       "    <tr>\n",
       "      <th>ap_lo</th>\n",
       "      <td>0.156700</td>\n",
       "      <td>0.066374</td>\n",
       "      <td>0.030534</td>\n",
       "      <td>0.254420</td>\n",
       "      <td>0.735436</td>\n",
       "      <td>1.000000</td>\n",
       "      <td>0.167401</td>\n",
       "      <td>0.082474</td>\n",
       "      <td>0.026172</td>\n",
       "      <td>0.038862</td>\n",
       "      <td>0.003401</td>\n",
       "      <td>0.362572</td>\n",
       "    </tr>\n",
       "    <tr>\n",
       "      <th>cholesterol</th>\n",
       "      <td>0.140113</td>\n",
       "      <td>-0.035730</td>\n",
       "      <td>-0.058940</td>\n",
       "      <td>0.137908</td>\n",
       "      <td>0.208722</td>\n",
       "      <td>0.167401</td>\n",
       "      <td>1.000000</td>\n",
       "      <td>0.407803</td>\n",
       "      <td>0.015220</td>\n",
       "      <td>0.041285</td>\n",
       "      <td>0.007573</td>\n",
       "      <td>0.215117</td>\n",
       "    </tr>\n",
       "    <tr>\n",
       "      <th>gluc</th>\n",
       "      <td>0.091791</td>\n",
       "      <td>-0.018866</td>\n",
       "      <td>-0.024369</td>\n",
       "      <td>0.109901</td>\n",
       "      <td>0.105334</td>\n",
       "      <td>0.082474</td>\n",
       "      <td>0.407803</td>\n",
       "      <td>1.000000</td>\n",
       "      <td>0.000468</td>\n",
       "      <td>0.018584</td>\n",
       "      <td>-0.008610</td>\n",
       "      <td>0.091488</td>\n",
       "    </tr>\n",
       "    <tr>\n",
       "      <th>smoke</th>\n",
       "      <td>-0.047471</td>\n",
       "      <td>0.338135</td>\n",
       "      <td>0.197632</td>\n",
       "      <td>0.071676</td>\n",
       "      <td>0.028929</td>\n",
       "      <td>0.026172</td>\n",
       "      <td>0.015220</td>\n",
       "      <td>0.000468</td>\n",
       "      <td>1.000000</td>\n",
       "      <td>0.340094</td>\n",
       "      <td>0.025858</td>\n",
       "      <td>-0.015486</td>\n",
       "    </tr>\n",
       "    <tr>\n",
       "      <th>alco</th>\n",
       "      <td>-0.030078</td>\n",
       "      <td>0.170966</td>\n",
       "      <td>0.096670</td>\n",
       "      <td>0.068088</td>\n",
       "      <td>0.033243</td>\n",
       "      <td>0.038862</td>\n",
       "      <td>0.041285</td>\n",
       "      <td>0.018584</td>\n",
       "      <td>0.340094</td>\n",
       "      <td>1.000000</td>\n",
       "      <td>0.025476</td>\n",
       "      <td>-0.007330</td>\n",
       "    </tr>\n",
       "    <tr>\n",
       "      <th>active</th>\n",
       "      <td>-0.010422</td>\n",
       "      <td>0.005866</td>\n",
       "      <td>-0.007367</td>\n",
       "      <td>-0.014894</td>\n",
       "      <td>-0.001268</td>\n",
       "      <td>0.003401</td>\n",
       "      <td>0.007573</td>\n",
       "      <td>-0.008610</td>\n",
       "      <td>0.025858</td>\n",
       "      <td>0.025476</td>\n",
       "      <td>1.000000</td>\n",
       "      <td>-0.035653</td>\n",
       "    </tr>\n",
       "    <tr>\n",
       "      <th>cardio</th>\n",
       "      <td>0.234429</td>\n",
       "      <td>0.008109</td>\n",
       "      <td>-0.012383</td>\n",
       "      <td>0.182701</td>\n",
       "      <td>0.451885</td>\n",
       "      <td>0.362572</td>\n",
       "      <td>0.215117</td>\n",
       "      <td>0.091488</td>\n",
       "      <td>-0.015486</td>\n",
       "      <td>-0.007330</td>\n",
       "      <td>-0.035653</td>\n",
       "      <td>1.000000</td>\n",
       "    </tr>\n",
       "  </tbody>\n",
       "</table>\n",
       "</div>"
      ],
      "text/plain": [
       "                  age    gender    height    weight     ap_hi     ap_lo  \\\n",
       "age          1.000000 -0.020176 -0.082292  0.061559  0.219087  0.156700   \n",
       "gender      -0.020176  1.000000  0.533805  0.172480  0.063174  0.066374   \n",
       "height      -0.082292  0.533805  1.000000  0.313569  0.019381  0.030534   \n",
       "weight       0.061559  0.172480  0.313569  1.000000  0.277749  0.254420   \n",
       "ap_hi        0.219087  0.063174  0.019381  0.277749  1.000000  0.735436   \n",
       "ap_lo        0.156700  0.066374  0.030534  0.254420  0.735436  1.000000   \n",
       "cholesterol  0.140113 -0.035730 -0.058940  0.137908  0.208722  0.167401   \n",
       "gluc         0.091791 -0.018866 -0.024369  0.109901  0.105334  0.082474   \n",
       "smoke       -0.047471  0.338135  0.197632  0.071676  0.028929  0.026172   \n",
       "alco        -0.030078  0.170966  0.096670  0.068088  0.033243  0.038862   \n",
       "active      -0.010422  0.005866 -0.007367 -0.014894 -0.001268  0.003401   \n",
       "cardio       0.234429  0.008109 -0.012383  0.182701  0.451885  0.362572   \n",
       "\n",
       "             cholesterol      gluc     smoke      alco    active    cardio  \n",
       "age             0.140113  0.091791 -0.047471 -0.030078 -0.010422  0.234429  \n",
       "gender         -0.035730 -0.018866  0.338135  0.170966  0.005866  0.008109  \n",
       "height         -0.058940 -0.024369  0.197632  0.096670 -0.007367 -0.012383  \n",
       "weight          0.137908  0.109901  0.071676  0.068088 -0.014894  0.182701  \n",
       "ap_hi           0.208722  0.105334  0.028929  0.033243 -0.001268  0.451885  \n",
       "ap_lo           0.167401  0.082474  0.026172  0.038862  0.003401  0.362572  \n",
       "cholesterol     1.000000  0.407803  0.015220  0.041285  0.007573  0.215117  \n",
       "gluc            0.407803  1.000000  0.000468  0.018584 -0.008610  0.091488  \n",
       "smoke           0.015220  0.000468  1.000000  0.340094  0.025858 -0.015486  \n",
       "alco            0.041285  0.018584  0.340094  1.000000  0.025476 -0.007330  \n",
       "active          0.007573 -0.008610  0.025858  0.025476  1.000000 -0.035653  \n",
       "cardio          0.215117  0.091488 -0.015486 -0.007330 -0.035653  1.000000  "
      ]
     },
     "execution_count": 162,
     "metadata": {},
     "output_type": "execute_result"
    }
   ],
   "source": [
    "train.corr(method='spearman')"
   ]
  },
  {
   "cell_type": "markdown",
   "metadata": {},
   "source": [
    "### 3.2 Почему мы получили такое большое (относительно) значение ранговой корреляции у этих признаков?\n",
    "\n",
    "- Неточности в данных (ошибки при сборе данных)\n",
    "- Связь ошибочна, переменные никак не должны быть связаны друг с другом\n",
    "- Природа данных"
   ]
  },
  {
   "cell_type": "markdown",
   "metadata": {},
   "source": [
    "---"
   ]
  },
  {
   "cell_type": "markdown",
   "metadata": {},
   "source": [
    "# 4. Совместное распределение признаков"
   ]
  },
  {
   "cell_type": "markdown",
   "metadata": {},
   "source": [
    "Постройте совместный график распределения [jointplot](http://seaborn.pydata.org/generated/seaborn.jointplot.html) двух наиболее коррелирующих между собой признаков (по Спирмену)."
   ]
  },
  {
   "cell_type": "markdown",
   "metadata": {},
   "source": [
    "Кажется, наш график получился неинформативным из-за выбросов в значениях. Постройте тот же график, но с логарифмической шкалой (чтобы не получать OverflowError необходимо отфильтровать значения меньше либо равные нулю)."
   ]
  },
  {
   "cell_type": "code",
   "execution_count": 174,
   "metadata": {},
   "outputs": [
    {
     "data": {
      "image/png": "[encoded data removed]",
      "text/plain": [
       "<matplotlib.figure.Figure at 0x2f5ce330>"
      ]
     },
     "metadata": {},
     "output_type": "display_data"
    }
   ],
   "source": [
    "# Ваш код здесь\n",
    "g = sns.jointplot(x=\"ap_hi\", y=\"ap_lo\", data=train.corr(method='spearman'))\n",
    "# -------------------- #\n",
    "\n",
    "\"\"\"Сетка\"\"\"\n",
    "g.ax_joint.grid(True) \n",
    "\n",
    "\"\"\"Преобразуем логарифмические значения на шкалах в реальные\"\"\"\n",
    "g.ax_joint.yaxis.set_major_formatter(matplotlib.ticker.FuncFormatter(lambda x, pos: str(round(int(np.exp(x))))))\n",
    "g.ax_joint.xaxis.set_major_formatter(matplotlib.ticker.FuncFormatter(lambda x, pos: str(round(int(np.exp(x))))))"
   ]
  },
  {
   "cell_type": "code",
   "execution_count": null,
   "metadata": {},
   "outputs": [],
   "source": []
  },
  {
   "cell_type": "markdown",
   "metadata": {},
   "source": [
    "### 4.1 Сколько чётко выраженных кластеров получилось на  совместном графике выбранных признаков, с логарифмической шкалой? Под кластером в данной задаче понимается плотное скопление точек, в окрестности которого пренебрежительно мало одиночных наблюдений и которое визуально отделимо от других кластеров.\n",
    "\n",
    "- 1\n",
    "- 2\n",
    "- 3\n",
    "- больше трёх"
   ]
  },
  {
   "cell_type": "code",
   "execution_count": null,
   "metadata": {
    "collapsed": true
   },
   "outputs": [],
   "source": [
    "# Ваш код здесь"
   ]
  },
  {
   "cell_type": "markdown",
   "metadata": {},
   "source": [
    "---"
   ]
  },
  {
   "cell_type": "markdown",
   "metadata": {},
   "source": [
    "# 5. Возраст"
   ]
  },
  {
   "cell_type": "markdown",
   "metadata": {},
   "source": [
    "Посчитаем, сколько полных лет было респондентам на момент их занесения в базу."
   ]
  },
  {
   "cell_type": "code",
   "execution_count": null,
   "metadata": {
    "collapsed": true
   },
   "outputs": [],
   "source": [
    "train['age_years'] = (train['age'] // 365.25).astype(int)"
   ]
  },
  {
   "cell_type": "markdown",
   "metadata": {},
   "source": [
    "Постройте [Countplot](http://seaborn.pydata.org/generated/seaborn.countplot.html), где на оси абсцисс будет отмечен возраст, на оси ординат – количество. Каждое значение возраста должно иметь два столбца, соответствующих количеству человек каждого класса **cardio** (здоров/болен) данного возраста."
   ]
  },
  {
   "cell_type": "markdown",
   "metadata": {},
   "source": [
    "### 5. В каком возрасте количество пациентов с ССЗ  впервые становится больше, чем здоровых?\n",
    "- 44\n",
    "- 49\n",
    "- 53\n",
    "- 62"
   ]
  },
  {
   "cell_type": "code",
   "execution_count": null,
   "metadata": {
    "collapsed": true
   },
   "outputs": [],
   "source": [
    "# Ваш код здесь"
   ]
  }
 ],
 "metadata": {
  "kernelspec": {
   "display_name": "Python 3",
   "language": "python",
   "name": "python3"
  },
  "language_info": {
   "codemirror_mode": {
    "name": "ipython",
    "version": 3
   },
   "file_extension": ".py",
   "mimetype": "text/x-python",
   "name": "python",
   "nbconvert_exporter": "python",
   "pygments_lexer": "ipython3",
   "version": "3.6.1"
  }
 },
 "nbformat": 4,
 "nbformat_minor": 2
}
